{
 "cells": [
  {
   "cell_type": "code",
   "execution_count": 1,
   "metadata": {
    "collapsed": false
   },
   "outputs": [
    {
     "name": "stdout",
     "output_type": "stream",
     "text": [
      "Populating the interactive namespace from numpy and matplotlib\n"
     ]
    }
   ],
   "source": [
    "%pylab inline"
   ]
  },
  {
   "cell_type": "code",
   "execution_count": 25,
   "metadata": {
    "collapsed": false
   },
   "outputs": [],
   "source": [
    "# As a training data set, download eng-jpn parallel corpus from tatoeba.org\n",
    "!wget http://downloads.tatoeba.org/exports/sentences.tar.bz2 -P ../data/\n",
    "!tar -jxf ../data/sentences.tar.bz2 -C ../data/\n",
    "\n",
    "!wget http://downloads.tatoeba.org/exports/links.tar.bz2 -P ../data/\n",
    "!tar -jxf ../data/links.tar.bz2 -C ../data/"
   ]
  },
  {
   "cell_type": "code",
   "execution_count": 27,
   "metadata": {
    "collapsed": false
   },
   "outputs": [],
   "source": [
    "sentences = {}\n",
    "sentence_lang = {}\n",
    "with open(\"../data/sentences.csv\", encoding=\"utf-8\") as f:\n",
    "    for line in f:\n",
    "        i, lang, sentence = line.strip(\"\\n\").split(\"\\t\")\n",
    "        sentence_lang[i] = lang\n",
    "        if lang == \"eng\" or lang == \"jpn\":\n",
    "            sentences[i] = sentence"
   ]
  },
  {
   "cell_type": "code",
   "execution_count": 28,
   "metadata": {
    "collapsed": false
   },
   "outputs": [],
   "source": [
    "translations = []\n",
    "with open(\"../data/links.csv\") as f:\n",
    "    for line in f:\n",
    "        i, j = line.strip(\"\\n\").split(\"\\t\")\n",
    "        if i in sentences and j in sentences and sentence_lang[i] == \"eng\" and sentence_lang[j] == \"jpn\":\n",
    "            translations.append((sentences[i], sentences[j]))"
   ]
  },
  {
   "cell_type": "code",
   "execution_count": 29,
   "metadata": {
    "collapsed": false
   },
   "outputs": [
    {
     "data": {
      "text/plain": [
       "[(\"Let's try something.\", '何かしてみましょう。'),\n",
       " ('I have to go to sleep.', '私は眠らなければなりません。'),\n",
       " ('I have to go to sleep.', 'そろそろ寝なくちゃ。'),\n",
       " (\"Today is June 18th and it is Muiriel's birthday!\",\n",
       "  '今日は６月１８日で、ムーリエルの誕生日です！'),\n",
       " ('Muiriel is 20 now.', 'ムーリエルは２０歳になりました。'),\n",
       " ('Muiriel is 20 now.', '今、ムーリイエルは２０歳だ。'),\n",
       " ('The password is \"Muiriel\".', 'パスワードは「Muiriel」です。'),\n",
       " ('I will be back soon.', 'すぐに戻ります。'),\n",
       " ('I will be back soon.', 'まもなく私は戻って来ます。'),\n",
       " ('I will be back soon.', 'すぐ戻ります。')]"
      ]
     },
     "execution_count": 29,
     "metadata": {},
     "output_type": "execute_result"
    }
   ],
   "source": [
    "## Sample translations\n",
    "translations[:10]"
   ]
  },
  {
   "cell_type": "code",
   "execution_count": 30,
   "metadata": {
    "collapsed": false
   },
   "outputs": [],
   "source": [
    "eng_vocabs = set()\n",
    "jpn_vocabs = set()\n",
    "with open(\"../translation.tsv\", \"w\", encoding=\"utf-8\") as f:\n",
    "    for eng, jpn in translations:\n",
    "        f.write(\"%s\\t%s\\n\" % (eng, jpn))\n",
    "        eng_vocabs |= set(eng)\n",
    "        jpn_vocabs |= set(jpn)"
   ]
  },
  {
   "cell_type": "code",
   "execution_count": 31,
   "metadata": {
    "collapsed": false
   },
   "outputs": [],
   "source": [
    "eng_dict = {}\n",
    "with open(\"../eng_vocabs.txt\", \"w\", encoding=\"utf-8\") as f:\n",
    "    for i, w in enumerate(eng_vocabs):\n",
    "        f.write(\"%s\\n\" % w)\n",
    "        eng_dict[w] = str(i + 4)\n",
    "\n",
    "jpn_dict = {}\n",
    "with open(\"../jpn_vocabs.txt\", \"w\", encoding=\"utf-8\") as f:\n",
    "    for i, w in enumerate(jpn_vocabs):\n",
    "        f.write(\"%s\\n\" % w)\n",
    "        jpn_dict[w] = str(i + 4)"
   ]
  },
  {
   "cell_type": "code",
   "execution_count": 32,
   "metadata": {
    "collapsed": true
   },
   "outputs": [],
   "source": [
    "PAD = \"0\"\n",
    "GO = \"1\"\n",
    "UNK = \"2\"\n",
    "EOS = \"3\""
   ]
  },
  {
   "cell_type": "code",
   "execution_count": 35,
   "metadata": {
    "collapsed": false
   },
   "outputs": [],
   "source": [
    "max_len = 200\n",
    "\n",
    "with open(\"../data/translation_id.tsv_tmp\", \"w\", encoding=\"utf-8\") as f:\n",
    "    for eng, jpn in translations:\n",
    "        if len(eng) <= max_len and len(jpn) <= max_len:\n",
    "            eng = \" \".join([eng_dict[w] for w in eng] + [EOS])\n",
    "            jpn = \" \".join([GO] + [jpn_dict[w] for w in jpn] + [EOS])\n",
    "            f.write(\"%s\\t%s\\n\" % (eng, jpn))"
   ]
  },
  {
   "cell_type": "code",
   "execution_count": 36,
   "metadata": {
    "collapsed": false
   },
   "outputs": [],
   "source": [
    "#Shuffle training data\n",
    "\n",
    "!shuf ../data/translation_id.tsv_tmp > ../data/translation_id.tsv\n",
    "!rm ../data/translation_id.tsv_tmp"
   ]
  }
 ],
 "metadata": {
  "anaconda-cloud": {},
  "kernelspec": {
   "display_name": "Python [conda root]",
   "language": "python",
   "name": "conda-root-py"
  },
  "language_info": {
   "codemirror_mode": {
    "name": "ipython",
    "version": 3
   },
   "file_extension": ".py",
   "mimetype": "text/x-python",
   "name": "python",
   "nbconvert_exporter": "python",
   "pygments_lexer": "ipython3",
   "version": "3.5.2"
  }
 },
 "nbformat": 4,
 "nbformat_minor": 1
}
